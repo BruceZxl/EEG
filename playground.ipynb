{
 "cells": [
  {
   "cell_type": "code",
   "execution_count": 2,
   "metadata": {},
   "outputs": [],
   "source": [
    "import ctypes\n",
    "from PySide6.QtGui  import QColor"
   ]
  },
  {
   "cell_type": "code",
   "execution_count": 8,
   "metadata": {},
   "outputs": [],
   "source": [
    "MB_ICONEXCLAMATION = ctypes.c_uint(int(\"0x30\",0));\n",
    "NULL = None;\n",
    "\n",
    "hDllUser32 = ctypes.WinDLL('user32.dll')\n",
    "ret = hDllUser32.MessageBoxA(NULL,\n",
    "                             b'This is a MessageBox wrapping MessageBoxA()',\n",
    "                             b'Message Box Test',\n",
    "                             MB_ICONEXCLAMATION);\n",
    "del hDllUser32"
   ]
  },
  {
   "cell_type": "code",
   "execution_count": 7,
   "metadata": {},
   "outputs": [
    {
     "name": "stdout",
     "output_type": "stream",
     "text": [
      "196 0 178 148\n",
      "ColorizationColor: 3288380052\n",
      "ColorizationAfterglow: 3288380052\n",
      "ColorizationColorBalance: 89\n",
      "ColorizationAfterglowBalance: 10\n",
      "ColorizationBlurBalance: 1\n",
      "ColorizationGlassReflectionIntensity: 1\n",
      "ColorizationOpaqueBlend: 1\n"
     ]
    }
   ],
   "source": [
    "class DwmColorizationParams(ctypes.Structure):\n",
    "    _fields_ = [\n",
    "        (\"ColorizationColor\", ctypes.c_uint),\n",
    "        (\"ColorizationAfterglow\", ctypes.c_uint),\n",
    "        (\"ColorizationColorBalance\", ctypes.c_uint),\n",
    "        (\"ColorizationAfterglowBalance\", ctypes.c_uint),\n",
    "        (\"ColorizationBlurBalance\", ctypes.c_uint),\n",
    "        (\"ColorizationGlassReflectionIntensity\", ctypes.c_uint),\n",
    "        (\"ColorizationOpaqueBlend\", ctypes.c_uint)]\n",
    "dll = ctypes.WinDLL('dwmapi.dll')\n",
    "params = DwmColorizationParams()\n",
    "code = dll[127](ctypes.byref(params))\n",
    "del dll\n",
    "if code:\n",
    "    print(f\"Invocation failed: DwmGetColorizationParameters() returned {code} \")\n",
    "else:\n",
    "    color = QColor.fromRgba(params.ColorizationColor)\n",
    "    print(color.alpha(), color.red(), color.green(), color.blue())\n",
    "    print(\"ColorizationColor:\", params.ColorizationColor)\n",
    "    print(\"ColorizationAfterglow:\", params.ColorizationAfterglow)\n",
    "    print(\"ColorizationColorBalance:\", params.ColorizationColorBalance)\n",
    "    print(\"ColorizationAfterglowBalance:\", params.ColorizationAfterglowBalance)\n",
    "    print(\"ColorizationBlurBalance:\", params.ColorizationBlurBalance)\n",
    "    print(\"ColorizationGlassReflectionIntensity:\", params.ColorizationGlassReflectionIntensity)\n",
    "    print(\"ColorizationOpaqueBlend:\", params.ColorizationOpaqueBlend)"
   ]
  },
  {
   "cell_type": "markdown",
   "metadata": {},
   "source": [
    "196 227 0 140\n",
    "ColorizationColor: 3303211148\n",
    "ColorizationAfterglow: 3303211148\n",
    "ColorizationColorBalance: 89\n",
    "ColorizationAfterglowBalance: 10\n",
    "ColorizationBlurBalance: 1\n",
    "ColorizationGlassReflectionIntensity: 1\n",
    "ColorizationOpaqueBlend: 1"
   ]
  }
 ],
 "metadata": {
  "kernelspec": {
   "display_name": ".venv",
   "language": "python",
   "name": "python3"
  },
  "language_info": {
   "codemirror_mode": {
    "name": "ipython",
    "version": 3
   },
   "file_extension": ".py",
   "mimetype": "text/x-python",
   "name": "python",
   "nbconvert_exporter": "python",
   "pygments_lexer": "ipython3",
   "version": "3.10.7"
  }
 },
 "nbformat": 4,
 "nbformat_minor": 2
}
